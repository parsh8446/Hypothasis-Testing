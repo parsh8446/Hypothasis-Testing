{
 "cells": [
  {
   "cell_type": "code",
   "execution_count": 22,
   "id": "4d4f6499",
   "metadata": {},
   "outputs": [],
   "source": [
    "import pandas as pd\n",
    "import scipy\n",
    "from scipy import stats\n"
   ]
  },
  {
   "cell_type": "code",
   "execution_count": 5,
   "id": "2069660a",
   "metadata": {},
   "outputs": [],
   "source": [
    "data = pd.read_csv(\"Cutlets.csv\")"
   ]
  },
  {
   "cell_type": "code",
   "execution_count": 7,
   "id": "7a9f2226",
   "metadata": {},
   "outputs": [
    {
     "data": {
      "text/html": [
       "<div>\n",
       "<style scoped>\n",
       "    .dataframe tbody tr th:only-of-type {\n",
       "        vertical-align: middle;\n",
       "    }\n",
       "\n",
       "    .dataframe tbody tr th {\n",
       "        vertical-align: top;\n",
       "    }\n",
       "\n",
       "    .dataframe thead th {\n",
       "        text-align: right;\n",
       "    }\n",
       "</style>\n",
       "<table border=\"1\" class=\"dataframe\">\n",
       "  <thead>\n",
       "    <tr style=\"text-align: right;\">\n",
       "      <th></th>\n",
       "      <th>Unit A</th>\n",
       "      <th>Unit B</th>\n",
       "    </tr>\n",
       "  </thead>\n",
       "  <tbody>\n",
       "    <tr>\n",
       "      <th>0</th>\n",
       "      <td>6.8090</td>\n",
       "      <td>6.7703</td>\n",
       "    </tr>\n",
       "    <tr>\n",
       "      <th>1</th>\n",
       "      <td>6.4376</td>\n",
       "      <td>7.5093</td>\n",
       "    </tr>\n",
       "    <tr>\n",
       "      <th>2</th>\n",
       "      <td>6.9157</td>\n",
       "      <td>6.7300</td>\n",
       "    </tr>\n",
       "    <tr>\n",
       "      <th>3</th>\n",
       "      <td>7.3012</td>\n",
       "      <td>6.7878</td>\n",
       "    </tr>\n",
       "    <tr>\n",
       "      <th>4</th>\n",
       "      <td>7.4488</td>\n",
       "      <td>7.1522</td>\n",
       "    </tr>\n",
       "  </tbody>\n",
       "</table>\n",
       "</div>"
      ],
      "text/plain": [
       "   Unit A  Unit B\n",
       "0  6.8090  6.7703\n",
       "1  6.4376  7.5093\n",
       "2  6.9157  6.7300\n",
       "3  7.3012  6.7878\n",
       "4  7.4488  7.1522"
      ]
     },
     "execution_count": 7,
     "metadata": {},
     "output_type": "execute_result"
    }
   ],
   "source": [
    "data.head()"
   ]
  },
  {
   "cell_type": "markdown",
   "id": "963b0c1c",
   "metadata": {},
   "source": [
    "# Problem Statement : "
   ]
  },
  {
   "cell_type": "markdown",
   "id": "718656de",
   "metadata": {},
   "source": [
    "#### A F&B manager wants to determine whether there is any significant difference in the diameter of the cutlet between two units. A randomly selected sample of cutlets was collected from both units and measured? Analyze the data and draw inferences at 5% significance level. Please state the assumptions and tests that you carried out to check validity of the assumptions.\n"
   ]
  },
  {
   "cell_type": "markdown",
   "id": "1540a87a",
   "metadata": {},
   "source": [
    "# Business Problem "
   ]
  },
  {
   "cell_type": "code",
   "execution_count": 9,
   "id": "cc6f7a5c",
   "metadata": {},
   "outputs": [],
   "source": [
    "# Is there significant difference in the diameter of the cutlet ?"
   ]
  },
  {
   "cell_type": "markdown",
   "id": "a8ebb19e",
   "metadata": {},
   "source": [
    "# Data description"
   ]
  },
  {
   "cell_type": "raw",
   "id": "da53500d",
   "metadata": {},
   "source": [
    " α == 0.05 (95% Confidence)\n",
    "\n",
    "Y == Continious\n",
    "X == Discrete\n",
    "\n",
    "Is Y1 and Y2 normal ?\n",
    "\n",
    "H0 = Y1 and Y2 are normal\n",
    "H1 = Y1 and Y2 are not normal"
   ]
  },
  {
   "cell_type": "markdown",
   "id": "82aa0bc9",
   "metadata": {},
   "source": [
    "# Normality Test"
   ]
  },
  {
   "cell_type": "code",
   "execution_count": 11,
   "id": "fa915f0b",
   "metadata": {},
   "outputs": [
    {
     "data": {
      "text/plain": [
       "ShapiroResult(statistic=0.9649458527565002, pvalue=0.3199819028377533)"
      ]
     },
     "execution_count": 11,
     "metadata": {},
     "output_type": "execute_result"
    }
   ],
   "source": [
    "stats.shapiro(data[\"Unit A\"])\n",
    "\n",
    "#P value for Unit A == 0.32 > α"
   ]
  },
  {
   "cell_type": "code",
   "execution_count": 23,
   "id": "87cfa5ed",
   "metadata": {},
   "outputs": [
    {
     "data": {
      "text/plain": [
       "ShapiroResult(statistic=0.9727300405502319, pvalue=0.5224985480308533)"
      ]
     },
     "execution_count": 23,
     "metadata": {},
     "output_type": "execute_result"
    }
   ],
   "source": [
    "stats.shapiro(data[\"Unit B\"])\n",
    "\n",
    "# P value for Unit B == 0.52 > α"
   ]
  },
  {
   "cell_type": "markdown",
   "id": "88201f95",
   "metadata": {},
   "source": [
    "### Here Y1 and Y2 are Normal so H0 is accepted !"
   ]
  },
  {
   "cell_type": "markdown",
   "id": "1b2d7f8b",
   "metadata": {},
   "source": [
    "# T Test\n"
   ]
  },
  {
   "cell_type": "markdown",
   "id": "2489d8ed",
   "metadata": {},
   "source": [
    "# Model"
   ]
  },
  {
   "cell_type": "raw",
   "id": "ba69cfe3",
   "metadata": {},
   "source": [
    "H0 == Mean for Y1 and Y2 are equal \n",
    "H1 == Mean for Y1 and Y2 are not equal "
   ]
  },
  {
   "cell_type": "code",
   "execution_count": 24,
   "id": "14da6614",
   "metadata": {},
   "outputs": [
    {
     "data": {
      "text/plain": [
       "Ttest_relResult(statistic=0.7536787225614314, pvalue=0.4562300768038412)"
      ]
     },
     "execution_count": 24,
     "metadata": {},
     "output_type": "execute_result"
    }
   ],
   "source": [
    "stats.ttest_rel(data[\"Unit A\"], data[\"Unit B\"])\n"
   ]
  },
  {
   "cell_type": "code",
   "execution_count": 25,
   "id": "0ec7bb4f",
   "metadata": {},
   "outputs": [],
   "source": [
    "# P value of the Paired T Test is == 0.45 > α "
   ]
  },
  {
   "cell_type": "markdown",
   "id": "3339ae88",
   "metadata": {},
   "source": [
    "## Thus H0 is accepted."
   ]
  },
  {
   "cell_type": "markdown",
   "id": "89d5c77b",
   "metadata": {},
   "source": [
    "## Mean of both Y1 and Y2 are equal"
   ]
  },
  {
   "cell_type": "code",
   "execution_count": null,
   "id": "27f5def6",
   "metadata": {},
   "outputs": [],
   "source": []
  }
 ],
 "metadata": {
  "kernelspec": {
   "display_name": "Python 3 (ipykernel)",
   "language": "python",
   "name": "python3"
  },
  "language_info": {
   "codemirror_mode": {
    "name": "ipython",
    "version": 3
   },
   "file_extension": ".py",
   "mimetype": "text/x-python",
   "name": "python",
   "nbconvert_exporter": "python",
   "pygments_lexer": "ipython3",
   "version": "3.8.12"
  }
 },
 "nbformat": 4,
 "nbformat_minor": 5
}
