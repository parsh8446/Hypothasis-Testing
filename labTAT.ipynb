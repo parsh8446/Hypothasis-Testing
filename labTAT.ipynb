{
 "cells": [
  {
   "cell_type": "code",
   "execution_count": 1,
   "id": "137ab23f",
   "metadata": {},
   "outputs": [],
   "source": [
    "import pandas as pd\n",
    "import numpy as np\n",
    "from scipy import stats"
   ]
  },
  {
   "cell_type": "raw",
   "id": "8ee99d50",
   "metadata": {},
   "source": [
    " A hospital wants to determine whether there is any difference in the average Turn Around Time (TAT) of reports of the laboratories on their preferred list. They collected a random sample and recorded TAT for reports of 4 laboratories. TAT is defined as sample collected to report dispatch.\n",
    "   \n",
    "  Analyze the data and determine whether there is any difference in average TAT among the different laboratories at 5% significance level."
   ]
  },
  {
   "cell_type": "code",
   "execution_count": null,
   "id": "14257288",
   "metadata": {},
   "outputs": [],
   "source": [
    "# Business Problem\n",
    "#Is there any significant difference in the average Turn Around Time between laboratories ?\n"
   ]
  },
  {
   "cell_type": "code",
   "execution_count": 2,
   "id": "3f2f8223",
   "metadata": {},
   "outputs": [],
   "source": [
    "# Loding dataset\n",
    "\n",
    "data = pd.read_csv(\"labTAT.csv\")"
   ]
  },
  {
   "cell_type": "code",
   "execution_count": 3,
   "id": "0066529f",
   "metadata": {},
   "outputs": [
    {
     "data": {
      "text/html": [
       "<div>\n",
       "<style scoped>\n",
       "    .dataframe tbody tr th:only-of-type {\n",
       "        vertical-align: middle;\n",
       "    }\n",
       "\n",
       "    .dataframe tbody tr th {\n",
       "        vertical-align: top;\n",
       "    }\n",
       "\n",
       "    .dataframe thead th {\n",
       "        text-align: right;\n",
       "    }\n",
       "</style>\n",
       "<table border=\"1\" class=\"dataframe\">\n",
       "  <thead>\n",
       "    <tr style=\"text-align: right;\">\n",
       "      <th></th>\n",
       "      <th>Laboratory 1</th>\n",
       "      <th>Laboratory 2</th>\n",
       "      <th>Laboratory 3</th>\n",
       "      <th>Laboratory 4</th>\n",
       "    </tr>\n",
       "  </thead>\n",
       "  <tbody>\n",
       "    <tr>\n",
       "      <th>0</th>\n",
       "      <td>185.35</td>\n",
       "      <td>165.53</td>\n",
       "      <td>176.70</td>\n",
       "      <td>166.13</td>\n",
       "    </tr>\n",
       "    <tr>\n",
       "      <th>1</th>\n",
       "      <td>170.49</td>\n",
       "      <td>185.91</td>\n",
       "      <td>198.45</td>\n",
       "      <td>160.79</td>\n",
       "    </tr>\n",
       "    <tr>\n",
       "      <th>2</th>\n",
       "      <td>192.77</td>\n",
       "      <td>194.92</td>\n",
       "      <td>201.23</td>\n",
       "      <td>185.18</td>\n",
       "    </tr>\n",
       "    <tr>\n",
       "      <th>3</th>\n",
       "      <td>177.33</td>\n",
       "      <td>183.00</td>\n",
       "      <td>199.61</td>\n",
       "      <td>176.42</td>\n",
       "    </tr>\n",
       "    <tr>\n",
       "      <th>4</th>\n",
       "      <td>193.41</td>\n",
       "      <td>169.57</td>\n",
       "      <td>204.63</td>\n",
       "      <td>152.60</td>\n",
       "    </tr>\n",
       "  </tbody>\n",
       "</table>\n",
       "</div>"
      ],
      "text/plain": [
       "   Laboratory 1  Laboratory 2  Laboratory 3  Laboratory 4\n",
       "0        185.35        165.53        176.70        166.13\n",
       "1        170.49        185.91        198.45        160.79\n",
       "2        192.77        194.92        201.23        185.18\n",
       "3        177.33        183.00        199.61        176.42\n",
       "4        193.41        169.57        204.63        152.60"
      ]
     },
     "execution_count": 3,
     "metadata": {},
     "output_type": "execute_result"
    }
   ],
   "source": [
    "data.head()"
   ]
  },
  {
   "cell_type": "code",
   "execution_count": 5,
   "id": "ab05e129",
   "metadata": {},
   "outputs": [
    {
     "data": {
      "text/plain": [
       "Laboratory 1    0\n",
       "Laboratory 2    0\n",
       "Laboratory 3    0\n",
       "Laboratory 4    0\n",
       "dtype: int64"
      ]
     },
     "execution_count": 5,
     "metadata": {},
     "output_type": "execute_result"
    }
   ],
   "source": [
    "#Checking for null values in dataset\n",
    "data.isna().sum()"
   ]
  },
  {
   "cell_type": "raw",
   "id": "5830fa3a",
   "metadata": {},
   "source": [
    "H0 = Y1, Y2, Y3 and Y4 are normal\n",
    "H1 = Y1, Y2, Y3 and Y4 are not normal\n",
    "\n",
    "where \n",
    "Y ==Continious \n",
    "X ==Discrete\n",
    "\n"
   ]
  },
  {
   "cell_type": "markdown",
   "id": "c7c8187a",
   "metadata": {},
   "source": [
    "# Normality Test"
   ]
  },
  {
   "cell_type": "code",
   "execution_count": 9,
   "id": "ccaf8b3b",
   "metadata": {},
   "outputs": [
    {
     "data": {
      "text/plain": [
       "ShapiroResult(statistic=0.9901824593544006, pvalue=0.5506953597068787)"
      ]
     },
     "execution_count": 9,
     "metadata": {},
     "output_type": "execute_result"
    }
   ],
   "source": [
    "pvallab1 = stats.shapiro(data[\"Laboratory 1\"])\n",
    "pvallab1"
   ]
  },
  {
   "cell_type": "code",
   "execution_count": 10,
   "id": "aca8bde5",
   "metadata": {},
   "outputs": [
    {
     "data": {
      "text/plain": [
       "ShapiroResult(statistic=0.9936322569847107, pvalue=0.8637524843215942)"
      ]
     },
     "execution_count": 10,
     "metadata": {},
     "output_type": "execute_result"
    }
   ],
   "source": [
    "pvallab2 = stats.shapiro(data[\"Laboratory 2\"])\n",
    "pvallab2"
   ]
  },
  {
   "cell_type": "code",
   "execution_count": 11,
   "id": "05ef09df",
   "metadata": {},
   "outputs": [
    {
     "data": {
      "text/plain": [
       "ShapiroResult(statistic=0.9886345267295837, pvalue=0.4205053448677063)"
      ]
     },
     "execution_count": 11,
     "metadata": {},
     "output_type": "execute_result"
    }
   ],
   "source": [
    "pvallab3 = stats.shapiro(data[\"Laboratory 3\"])\n",
    "pvallab3"
   ]
  },
  {
   "cell_type": "code",
   "execution_count": 12,
   "id": "5285cef0",
   "metadata": {},
   "outputs": [
    {
     "data": {
      "text/plain": [
       "ShapiroResult(statistic=0.9913753271102905, pvalue=0.6618951559066772)"
      ]
     },
     "execution_count": 12,
     "metadata": {},
     "output_type": "execute_result"
    }
   ],
   "source": [
    "pvallab4 = stats.shapiro(data[\"Laboratory 4\"])\n",
    "pvallab4"
   ]
  },
  {
   "cell_type": "code",
   "execution_count": 13,
   "id": "714dd489",
   "metadata": {},
   "outputs": [],
   "source": [
    "# α == 0.05 (95% Confidence)"
   ]
  },
  {
   "cell_type": "code",
   "execution_count": 31,
   "id": "cee5b31d",
   "metadata": {},
   "outputs": [
    {
     "name": "stdout",
     "output_type": "stream",
     "text": [
      "0.5506953597068787 P value for Laboratory 1 == 0.55 > α\n",
      "0.8637524843215942 P value for Laboratory 2 == 0.86 > α\n",
      "0.4205053448677063 P value for Laboratory 3 == 0.42 > α\n",
      "0.6618951559066772 P value for Laboratory 4 == 0.66 > α\n"
     ]
    }
   ],
   "source": [
    "print(pvallab1.pvalue,\"P value for Laboratory 1 == 0.55 > α\")\n",
    "print(pvallab2.pvalue,\"P value for Laboratory 2 == 0.86 > α\")\n",
    "print(pvallab3.pvalue,\"P value for Laboratory 3 == 0.42 > α\")\n",
    "print(pvallab4.pvalue,\"P value for Laboratory 4 == 0.66 > α\")\n"
   ]
  },
  {
   "cell_type": "markdown",
   "id": "c05dee65",
   "metadata": {},
   "source": [
    "### HO is accepted. Thats is Y1, Y2, Y3, and Y4 are normal"
   ]
  },
  {
   "cell_type": "markdown",
   "id": "4b2d7c81",
   "metadata": {},
   "source": [
    "# Veriance"
   ]
  },
  {
   "cell_type": "raw",
   "id": "ed00eca0",
   "metadata": {},
   "source": [
    "H0 == Variance of all 4 laboratories are same.\n",
    "H1 == Variance of all 4 laboratories are not same."
   ]
  },
  {
   "cell_type": "code",
   "execution_count": 34,
   "id": "1d3af2fc",
   "metadata": {},
   "outputs": [
    {
     "data": {
      "text/plain": [
       "LeveneResult(statistic=2.599642500418024, pvalue=0.05161343808309816)"
      ]
     },
     "execution_count": 34,
     "metadata": {},
     "output_type": "execute_result"
    }
   ],
   "source": [
    "veriance = stats.levene(data[\"Laboratory 1\"], data[\"Laboratory 2\"], data[\"Laboratory 3\"], data[\"Laboratory 4\"])\n",
    "veriance"
   ]
  },
  {
   "cell_type": "code",
   "execution_count": 35,
   "id": "3e77af1a",
   "metadata": {},
   "outputs": [
    {
     "name": "stdout",
     "output_type": "stream",
     "text": [
      "P value for Variance test is =  0.05161343808309816  > α \n"
     ]
    }
   ],
   "source": [
    "print(\"P value for Variance test is = \", veriance.pvalue, \" > α \")"
   ]
  },
  {
   "cell_type": "markdown",
   "id": "3cf438a3",
   "metadata": {},
   "source": [
    "### H0 is accepted "
   ]
  },
  {
   "cell_type": "code",
   "execution_count": 36,
   "id": "dc90a889",
   "metadata": {},
   "outputs": [],
   "source": [
    "#Thus we will perform one way Anova Test"
   ]
  },
  {
   "cell_type": "markdown",
   "id": "30ed889d",
   "metadata": {},
   "source": [
    "## Model"
   ]
  },
  {
   "cell_type": "code",
   "execution_count": 37,
   "id": "d78d2b8f",
   "metadata": {},
   "outputs": [],
   "source": [
    "# H0 == Mean TAT for 4 laboratories are equal \n",
    "# H1 == Mean TAT for 4 laboratories are not equal "
   ]
  },
  {
   "cell_type": "code",
   "execution_count": 38,
   "id": "c28a6273",
   "metadata": {},
   "outputs": [
    {
     "data": {
      "text/plain": [
       "F_onewayResult(statistic=118.70421654401437, pvalue=2.1156708949992414e-57)"
      ]
     },
     "execution_count": 38,
     "metadata": {},
     "output_type": "execute_result"
    }
   ],
   "source": [
    "stats.stats.f_oneway(data[\"Laboratory 1\"], data[\"Laboratory 2\"], data[\"Laboratory 3\"], data[\"Laboratory 4\"])"
   ]
  },
  {
   "cell_type": "raw",
   "id": "c6971ef8",
   "metadata": {},
   "source": [
    "F_onewayResult(statistic=118.70421654401437, pvalue=2.1156708949992414e-57)\n",
    "P value of the One way Anova test is == 2e-16 < α"
   ]
  },
  {
   "cell_type": "markdown",
   "id": "cc70b8ea",
   "metadata": {},
   "source": [
    "## Thus H1 is accepted."
   ]
  },
  {
   "cell_type": "code",
   "execution_count": 39,
   "id": "a8417bb8",
   "metadata": {},
   "outputs": [],
   "source": [
    "# Mean TAT for 4 laboratories not equal (There is a significance difference between TAT of the laboratories)"
   ]
  },
  {
   "cell_type": "code",
   "execution_count": null,
   "id": "d8ddddf9",
   "metadata": {},
   "outputs": [],
   "source": []
  }
 ],
 "metadata": {
  "kernelspec": {
   "display_name": "Python 3 (ipykernel)",
   "language": "python",
   "name": "python3"
  },
  "language_info": {
   "codemirror_mode": {
    "name": "ipython",
    "version": 3
   },
   "file_extension": ".py",
   "mimetype": "text/x-python",
   "name": "python",
   "nbconvert_exporter": "python",
   "pygments_lexer": "ipython3",
   "version": "3.8.12"
  }
 },
 "nbformat": 4,
 "nbformat_minor": 5
}
